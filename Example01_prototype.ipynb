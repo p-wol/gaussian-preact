{
 "cells": [
  {
   "cell_type": "code",
   "execution_count": 1,
   "id": "cf52d36d",
   "metadata": {},
   "outputs": [],
   "source": [
    "import os\n",
    "import time\n",
    "import pickle\n",
    "import torch\n",
    "import torch.nn as nn\n",
    "import numpy as np\n",
    "import scipy\n",
    "from scipy import special, integrate, optimize, stats\n",
    "import matplotlib\n",
    "import matplotlib.pyplot as plt\n",
    "%matplotlib inline\n",
    "\n",
    "import gaussian_preact as gpre\n",
    "from gaussian_preact import ParameterizedFunction, Integrand, find_density\n",
    "\n",
    "torch.set_default_dtype(torch.float64)"
   ]
  },
  {
   "cell_type": "code",
   "execution_count": 2,
   "id": "281d7a73",
   "metadata": {},
   "outputs": [],
   "source": [
    "theta = 4.\n",
    "lambd = 1.\n",
    "theta_conj = 1/(1/2 - 1/theta)\n",
    "alpha = 3.\n",
    "lambd_1 = 1.\n",
    "lambd_2 = 1.\n",
    "gamma = 1.\n",
    "\n",
    "surv_kernel_Weib = gpre.build_surv_kernel_Weib(theta, lambd)\n",
    "\n",
    "density = ParameterizedFunction(theta, theta_conj, alpha, lambd_1, lambd_2, gamma)\n",
    "integrand = Integrand(density, surv_kernel_Weib)"
   ]
  },
  {
   "cell_type": "code",
   "execution_count": 3,
   "id": "9847cc01",
   "metadata": {},
   "outputs": [
    {
     "name": "stdout",
     "output_type": "stream",
     "text": [
      "0.3198478246627189\n",
      "0.31980594215532643\n"
     ]
    }
   ],
   "source": [
    "z = 1\n",
    "\n",
    "intervals, dxs, value = integrand.compute_intervals(z, 0, 10, 50)\n",
    "print(integrand.integrate(z, intervals, dxs).item())\n",
    "print(value)"
   ]
  },
  {
   "cell_type": "code",
   "execution_count": 4,
   "id": "613bc226",
   "metadata": {},
   "outputs": [],
   "source": [
    "dct_densities = {}"
   ]
  },
  {
   "cell_type": "code",
   "execution_count": 5,
   "id": "af055fde",
   "metadata": {},
   "outputs": [],
   "source": [
    "# Set the initial parameters of the density\n",
    "theta = 4.\n",
    "lambd = 1.\n",
    "alpha = 3.\n",
    "lambd_1 = 1.\n",
    "lambd_2 = 1.\n",
    "gamma = 1.\n",
    "\n",
    "# Build the dataset\n",
    "zmin = 0\n",
    "zmax = 5\n",
    "znum = 200\n",
    "inputs = torch.linspace(zmin, zmax, znum)\n",
    "targets = gpre.surv_Gaussian_abs(inputs)"
   ]
  },
  {
   "cell_type": "code",
   "execution_count": 6,
   "id": "548be8c7",
   "metadata": {},
   "outputs": [],
   "source": [
    "# Optimization parameters\n",
    "lr = .01\n",
    "epochs = 600"
   ]
  },
  {
   "cell_type": "code",
   "execution_count": 7,
   "id": "7de7c36f",
   "metadata": {},
   "outputs": [],
   "source": [
    "dct_densities = {}\n",
    "dct_losses = {}"
   ]
  },
  {
   "cell_type": "code",
   "execution_count": null,
   "id": "32cbbe53",
   "metadata": {},
   "outputs": [
    {
     "name": "stdout",
     "output_type": "stream",
     "text": [
      "    epoch 0 ; loss: 0.407570\n",
      "    epoch 50 ; loss: 0.062789\n",
      "    epoch 100 ; loss: 0.011525\n",
      "    epoch 150 ; loss: 0.005541\n",
      "    epoch 200 ; loss: 0.002807\n",
      "    epoch 250 ; loss: 0.001914\n",
      "    epoch 300 ; loss: 0.001192\n",
      "    epoch 350 ; loss: 0.001888\n",
      "    epoch 400 ; loss: 0.001186\n",
      "    epoch 450 ; loss: 0.001102\n",
      "    epoch 500 ; loss: 0.001084\n",
      "    epoch 550 ; loss: 0.001079\n",
      "    epoch 599 ; loss: 0.001074\n",
      "Final loss: 0.001074\n",
      "    epoch 0 ; loss: 0.416691\n",
      "    epoch 50 ; loss: 0.059917\n",
      "    epoch 100 ; loss: 0.009361\n",
      "    epoch 150 ; loss: 0.003693\n",
      "    epoch 200 ; loss: 0.001765\n",
      "    epoch 250 ; loss: 0.001810\n",
      "    epoch 300 ; loss: 0.001377\n",
      "    epoch 350 ; loss: 0.001820\n",
      "    epoch 400 ; loss: 0.001079\n",
      "    epoch 450 ; loss: 0.001464\n",
      "    epoch 500 ; loss: 0.001019\n",
      "    epoch 550 ; loss: 0.000988\n",
      "    epoch 599 ; loss: 0.000987\n",
      "Final loss: 0.000985\n",
      "    epoch 0 ; loss: 0.433488\n",
      "    epoch 50 ; loss: 0.064109\n",
      "    epoch 100 ; loss: 0.011092\n",
      "    epoch 150 ; loss: 0.003990\n",
      "    epoch 200 ; loss: 0.002672\n",
      "    epoch 250 ; loss: 0.002509\n",
      "    epoch 300 ; loss: 0.002182\n",
      "    epoch 350 ; loss: 0.003061\n",
      "    epoch 400 ; loss: 0.001669\n",
      "    epoch 450 ; loss: 0.001641\n",
      "    epoch 500 ; loss: 0.001592\n",
      "    epoch 550 ; loss: 0.001517\n",
      "    epoch 599 ; loss: 0.001501\n",
      "Final loss: 0.001509\n",
      "    epoch 0 ; loss: 0.474549\n",
      "    epoch 50 ; loss: 0.076496\n",
      "    epoch 100 ; loss: 0.009732\n",
      "    epoch 150 ; loss: 0.003040\n",
      "    epoch 200 ; loss: 0.003372\n",
      "    epoch 250 ; loss: 0.003171\n",
      "    epoch 300 ; loss: 0.003517\n",
      "    epoch 350 ; loss: 0.003616\n",
      "    epoch 400 ; loss: 0.004393\n",
      "    epoch 450 ; loss: 0.003313\n",
      "    epoch 500 ; loss: 0.003278\n",
      "    epoch 550 ; loss: 0.003228\n",
      "    epoch 599 ; loss: 0.003179\n",
      "Final loss: 0.003181\n",
      "    epoch 0 ; loss: 0.522132\n",
      "    epoch 50 ; loss: 0.082683\n",
      "    epoch 100 ; loss: 0.007049\n",
      "    epoch 150 ; loss: 0.004802\n",
      "    epoch 200 ; loss: 0.005350\n",
      "    epoch 250 ; loss: 0.005734\n",
      "    epoch 300 ; loss: 0.005837\n",
      "    epoch 350 ; loss: 0.006096\n",
      "    epoch 400 ; loss: 0.005702\n",
      "    epoch 450 ; loss: 0.005493\n",
      "    epoch 500 ; loss: 0.005480\n",
      "    epoch 550 ; loss: 0.005493\n",
      "    epoch 599 ; loss: 0.005490\n",
      "Final loss: 0.005499\n",
      "    epoch 0 ; loss: 0.577069\n",
      "    epoch 50 ; loss: 0.101444\n",
      "    epoch 100 ; loss: 0.008518\n",
      "    epoch 150 ; loss: 0.007447\n",
      "    epoch 200 ; loss: 0.007410\n",
      "    epoch 250 ; loss: 0.007810\n",
      "    epoch 300 ; loss: 0.008440\n",
      "    epoch 350 ; loss: 0.008788\n",
      "    epoch 400 ; loss: 0.009006\n",
      "    epoch 450 ; loss: 0.008401\n",
      "    epoch 500 ; loss: 0.008074\n",
      "    epoch 550 ; loss: 0.008059\n",
      "    epoch 599 ; loss: 0.008067\n",
      "Final loss: 0.008089\n",
      "    epoch 0 ; loss: 0.607413\n",
      "    epoch 50 ; loss: 0.023471\n",
      "    epoch 100 ; loss: 0.006593\n",
      "    epoch 150 ; loss: 0.006619\n",
      "    epoch 200 ; loss: 0.007592\n",
      "    epoch 250 ; loss: 0.008670\n",
      "    epoch 300 ; loss: 0.009662\n",
      "    epoch 350 ; loss: 0.010161\n",
      "    epoch 400 ; loss: 0.009268\n",
      "    epoch 450 ; loss: 0.008821\n",
      "    epoch 500 ; loss: 0.008808\n",
      "    epoch 550 ; loss: 0.008752\n",
      "    epoch 599 ; loss: 0.008753\n",
      "Final loss: 0.008759\n",
      "    epoch 0 ; loss: 0.626490\n",
      "    epoch 50 ; loss: 0.035583\n",
      "    epoch 100 ; loss: 0.006492\n",
      "    epoch 150 ; loss: 0.007367\n",
      "    epoch 200 ; loss: 0.008848\n",
      "    epoch 250 ; loss: 0.008826\n",
      "    epoch 300 ; loss: 0.009664\n",
      "    epoch 350 ; loss: 0.009702\n",
      "    epoch 400 ; loss: 0.009190\n",
      "    epoch 450 ; loss: 0.009298\n",
      "    epoch 500 ; loss: 0.009118\n",
      "    epoch 550 ; loss: 0.009108\n",
      "    epoch 599 ; loss: 0.009086\n",
      "Final loss: 0.009097\n",
      "    epoch 0 ; loss: 0.639534\n",
      "    epoch 50 ; loss: 0.028523\n",
      "    epoch 100 ; loss: 0.008384\n",
      "    epoch 150 ; loss: 0.008017\n",
      "    epoch 200 ; loss: 0.008183\n",
      "    epoch 250 ; loss: 0.009003\n",
      "    epoch 300 ; loss: 0.009793\n",
      "    epoch 350 ; loss: 0.010241\n",
      "    epoch 400 ; loss: 0.009708\n",
      "    epoch 450 ; loss: 0.009296\n",
      "    epoch 500 ; loss: 0.009279\n",
      "    epoch 550 ; loss: 0.009274\n",
      "    epoch 599 ; loss: 0.009238\n",
      "Final loss: 0.009255\n",
      "    epoch 0 ; loss: 0.648993\n",
      "    epoch 50 ; loss: 0.035721\n",
      "    epoch 100 ; loss: 0.008972\n",
      "    epoch 150 ; loss: 0.008270\n",
      "    epoch 200 ; loss: 0.008787\n",
      "    epoch 250 ; loss: 0.008954\n",
      "    epoch 300 ; loss: 0.009706\n",
      "    epoch 350 ; loss: 0.010338\n",
      "    epoch 400 ; loss: 0.009508\n",
      "    epoch 450 ; loss: 0.009527\n",
      "    epoch 500 ; loss: 0.009292\n",
      "    epoch 550 ; loss: 0.009262\n",
      "    epoch 599 ; loss: 0.009254\n",
      "Final loss: 0.009274\n",
      "    epoch 0 ; loss: 0.656156\n",
      "    epoch 50 ; loss: 0.041214\n",
      "    epoch 100 ; loss: 0.009910\n",
      "    epoch 150 ; loss: 0.008229\n",
      "    epoch 200 ; loss: 0.008838\n",
      "    epoch 250 ; loss: 0.008888\n",
      "    epoch 300 ; loss: 0.009620\n",
      "    epoch 350 ; loss: 0.010256\n",
      "    epoch 400 ; loss: 0.009537\n",
      "    epoch 450 ; loss: 0.009282\n",
      "    epoch 500 ; loss: 0.009215\n",
      "    epoch 550 ; loss: 0.009173\n",
      "    epoch 599 ; loss: 0.009156\n",
      "Final loss: 0.009168\n",
      "    epoch 0 ; loss: 0.661762\n",
      "    epoch 50 ; loss: 0.044238\n",
      "    epoch 100 ; loss: 0.010700\n",
      "    epoch 150 ; loss: 0.008516\n",
      "    epoch 200 ; loss: 0.008544\n",
      "    epoch 250 ; loss: 0.009195\n",
      "    epoch 300 ; loss: 0.009555\n",
      "    epoch 350 ; loss: 0.010135\n"
     ]
    }
   ],
   "source": [
    "for theta in [2.05, 2.1, 2.2, 2.5, 3., 4., 5., 6., 7., 8., 9., 10.]:\n",
    "    # Initialize objects depending on theta\n",
    "    theta_conj = theta_conj = 1/(1/2 - 1/theta)\n",
    "    surv_kernel_Weib = gpre.build_surv_kernel_Weib(theta, lambd)\n",
    "    density = ParameterizedFunction(theta, theta_conj, alpha, lambd_1, lambd_2, gamma)\n",
    "    integrand = Integrand(density, surv_kernel_Weib)\n",
    "    \n",
    "    # Train and get the final density\n",
    "    dct_densities[theta], dct_losses = find_density(theta, surv_kernel_Weib, density, integrand,\n",
    "            inputs, targets, lr = lr, epochs = epochs, scipy_update_period = 50, theta_conj_phases = 2)"
   ]
  },
  {
   "cell_type": "code",
   "execution_count": 6,
   "id": "a17577ab",
   "metadata": {},
   "outputs": [
    {
     "name": "stdout",
     "output_type": "stream",
     "text": [
      "    epoch 0 ; loss: 0.407570\n",
      "    epoch 50 ; loss: 0.074129\n",
      "    epoch 99 ; loss: 0.013296\n",
      "Final loss: 0.013083\n"
     ]
    }
   ],
   "source": [
    "# Solve integral equation\n",
    "restart = False\n",
    "cfg = 'cfg4c'\n",
    "path_store = './'\n",
    "\n",
    "zmin = 0\n",
    "zmax = 5\n",
    "znum = 200\n",
    "max_err = .015\n",
    "\n",
    "lr = .01\n",
    "epochs = 100\n",
    "\n",
    "#fs_name = 'InvInt_dens_' + cfg + '_theta-{:.4f}_err-{:.2e}_zmin-{:.2e}_zmax-{:.2e}_znum-{}_.pkl'\n",
    "#func_cfg = globals()['find_density_' + cfg]\n",
    "lst_theta = [2.05] #[2.05, 2.1, 2.2, 2.5, 3., 4., 5., 6., 7., 8., 9., 10.]\n",
    "\n",
    "dct_f_approx = {}\n",
    "\n",
    "for theta in lst_theta:\n",
    "    dct_densities[theta], err = find_density(theta, zmin, zmax, znum, lr = lr, epochs = epochs)\n",
    "\n",
    "    \"\"\"pickle.dump({'approx': approx, 'err': err}, \\\n",
    "        file = open(path_store + fs_density_func.build_fname(theta, err, zmin, zmax, znum), 'wb'))\"\"\""
   ]
  },
  {
   "cell_type": "code",
   "execution_count": 344,
   "id": "522c1d9b",
   "metadata": {
    "scrolled": false
   },
   "outputs": [
    {
     "name": "stdout",
     "output_type": "stream",
     "text": [
      "    epoch 0 ; loss: 0.577068\n",
      "    epoch 50 ; loss: 0.095404\n",
      "    epoch 100 ; loss: 0.004507\n",
      "    epoch 150 ; loss: 0.002852\n",
      "    epoch 200 ; loss: 0.002652\n",
      "    epoch 250 ; loss: 0.004945\n",
      "    epoch 300 ; loss: 0.006938\n",
      "    epoch 350 ; loss: 0.008153\n",
      "    epoch 400 ; loss: 0.009657\n",
      "    epoch 450 ; loss: 0.009589\n",
      "    epoch 500 ; loss: 0.008657\n",
      "    epoch 550 ; loss: 0.008072\n",
      "    epoch 599 ; loss: 0.008005\n"
     ]
    }
   ],
   "source": [
    "# Solve integral equation\n",
    "restart = False\n",
    "cfg = 'cfg4c'\n",
    "path_store = './'\n",
    "\n",
    "zmin = 0\n",
    "zmax = 5\n",
    "znum = 200\n",
    "max_err = .015\n",
    "\n",
    "lr = .01\n",
    "epochs = 600\n",
    "\n",
    "fs_name = 'InvInt_dens_' + cfg + '_theta-{:.4f}_err-{:.2e}_zmin-{:.2e}_zmax-{:.2e}_znum-{}_.pkl'\n",
    "func_cfg = globals()['find_density_' + cfg]\n",
    "lst_theta = [4.] #[2.05, 2.1, 2.2, 2.5, 3., 4., 5., 6., 7., 8., 9., 10.]\n",
    "\n",
    "dct_f_approx = {}\n",
    "\n",
    "for theta in lst_theta:\n",
    "    dct_densities[theta], err = func_cfg(theta, max_err, zmin, zmax, znum, lr = lr, epochs = epochs)\n",
    "\n",
    "    \"\"\"pickle.dump({'approx': approx, 'err': err}, \\\n",
    "        file = open(path_store + fs_density_func.build_fname(theta, err, zmin, zmax, znum), 'wb'))\"\"\""
   ]
  },
  {
   "cell_type": "code",
   "execution_count": 17,
   "id": "c84507e2",
   "metadata": {},
   "outputs": [
    {
     "data": {
      "image/png": "[encoded data removed]",
      "text/plain": [
       "<Figure size 640x480 with 1 Axes>"
      ]
     },
     "metadata": {},
     "output_type": "display_data"
    }
   ],
   "source": [
    "with torch.no_grad():\n",
    "    for theta, density in dct_densities.items():\n",
    "        plt.plot(np.linspace(0, 5, 100), density(torch.linspace(0, 5, 100)), \n",
    "                 label = r'$\\theta = {:.2f}$'.format(theta))"
   ]
  },
  {
   "cell_type": "code",
   "execution_count": 346,
   "id": "5f1e169a",
   "metadata": {},
   "outputs": [],
   "source": [
    "pickle.dump(dct_densities, open('dct_densities.pkl', 'wb'))"
   ]
  },
  {
   "cell_type": "code",
   "execution_count": 19,
   "id": "c74e1156",
   "metadata": {},
   "outputs": [],
   "source": [
    "dct_densities_load = pickle.load(open('dct_densities.pkl', 'rb'))"
   ]
  },
  {
   "cell_type": "code",
   "execution_count": 21,
   "id": "8f17bf6e",
   "metadata": {},
   "outputs": [
    {
     "data": {
      "image/png": "[encoded data removed]",
      "text/plain": [
       "<Figure size 640x480 with 1 Axes>"
      ]
     },
     "metadata": {},
     "output_type": "display_data"
    }
   ],
   "source": [
    "with torch.no_grad():\n",
    "    plt.plot(np.linspace(0, 5, 100), dct_densities[2.05](torch.linspace(0, 5, 100)))\n",
    "    plt.plot(np.linspace(0, 5, 100), dct_densities_load[2.05](torch.linspace(0, 5, 100)))"
   ]
  },
  {
   "cell_type": "code",
   "execution_count": 24,
   "id": "d88a6a08",
   "metadata": {},
   "outputs": [
    {
     "data": {
      "text/plain": [
       "Parameter containing:\n",
       "tensor(0.5962, requires_grad=True)"
      ]
     },
     "execution_count": 24,
     "metadata": {},
     "output_type": "execute_result"
    }
   ],
   "source": [
    "dct_densities[2.05].lambd_2"
   ]
  },
  {
   "cell_type": "code",
   "execution_count": 25,
   "id": "4edb5029",
   "metadata": {},
   "outputs": [
    {
     "data": {
      "text/plain": [
       "Parameter containing:\n",
       "tensor(0.6565, dtype=torch.float32, requires_grad=True)"
      ]
     },
     "execution_count": 25,
     "metadata": {},
     "output_type": "execute_result"
    }
   ],
   "source": [
    "dct_densities_load[2.05].lambd_2"
   ]
  },
  {
   "cell_type": "code",
   "execution_count": 20,
   "id": "513279cf",
   "metadata": {},
   "outputs": [
    {
     "data": {
      "image/png": "[encoded data removed]",
      "text/plain": [
       "<Figure size 640x480 with 1 Axes>"
      ]
     },
     "metadata": {},
     "output_type": "display_data"
    }
   ],
   "source": [
    "with torch.no_grad():\n",
    "    for theta, density in dct_densities_load.items():\n",
    "        plt.plot(np.linspace(0, 5, 100), density(torch.linspace(0, 5, 100)), \n",
    "                 label = r'$\\theta = {:.2f}$'.format(theta))"
   ]
  },
  {
   "cell_type": "code",
   "execution_count": null,
   "id": "ee3b3bfd",
   "metadata": {},
   "outputs": [],
   "source": []
  }
 ],
 "metadata": {
  "kernelspec": {
   "display_name": "Python 3 (ipykernel)",
   "language": "python",
   "name": "python3"
  },
  "language_info": {
   "codemirror_mode": {
    "name": "ipython",
    "version": 3
   },
   "file_extension": ".py",
   "mimetype": "text/x-python",
   "name": "python",
   "nbconvert_exporter": "python",
   "pygments_lexer": "ipython3",
   "version": "3.10.9"
  }
 },
 "nbformat": 4,
 "nbformat_minor": 5
}
